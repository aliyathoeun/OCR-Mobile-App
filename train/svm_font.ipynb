{
 "cells": [
  {
   "cell_type": "code",
   "execution_count": 9,
   "metadata": {},
   "outputs": [],
   "source": [
    "from sklearn.svm import SVC\n",
    "from sklearn.model_selection import train_test_split\n",
    "import os\n",
    "import cv2\n",
    "import numpy as np\n",
    "from matplotlib import pyplot as plt\n",
    "from sklearn.metrics import confusion_matrix, classification_report\n",
    "import seaborn as sns\n",
    "from joblib import dump, load\n",
    "from sklearn.metrics import confusion_matrix, ConfusionMatrixDisplay, classification_report, precision_score, recall_score, accuracy_score"
   ]
  },
  {
   "cell_type": "code",
   "execution_count": 10,
   "metadata": {},
   "outputs": [
    {
     "name": "stdout",
     "output_type": "stream",
     "text": [
      "Loading data...\n",
      "Data loading complete.\n"
     ]
    }
   ],
   "source": [
    "class_names = [\n",
    "    \"Khmer OS\",  \n",
    "    \"Khmer OS Battambong\",  \n",
    "    \"Khmer OS Siemreap\",  \n",
    "]\n",
    "class_labels = {name: index for index, name in enumerate(class_names)}\n",
    "\n",
    "def load_data():\n",
    "    DIRECTORY = \"data\"  # Root directory containing class folders\n",
    "    IMAGE_SIZE = (64, 64)  # Resize images to this size\n",
    "\n",
    "    images = []\n",
    "    labels = []\n",
    "    print(\"Loading data...\")\n",
    "\n",
    "    for folder in os.listdir(DIRECTORY):\n",
    "        folder_path = os.path.join(DIRECTORY, folder)\n",
    "        if not os.path.isdir(folder_path):  # Skip non-folder files\n",
    "            continue\n",
    "        \n",
    "        # Map folder name to class label\n",
    "        label = class_labels.get(folder, -1)\n",
    "        if label == -1:\n",
    "            print(f\"Warning: Folder {folder} does not match any class name.\")\n",
    "            continue\n",
    "\n",
    "        for file in os.listdir(folder_path):\n",
    "            file_path = os.path.join(folder_path, file)\n",
    "            try:\n",
    "                # Read and preprocess the image\n",
    "                image = cv2.imread(file_path, cv2.IMREAD_GRAYSCALE)  # Load in grayscale\n",
    "                if image is None:  # Skip invalid image files\n",
    "                    print(f\"Skipping invalid image: {file_path}\")\n",
    "                    continue\n",
    "\n",
    "                image = cv2.resize(image, IMAGE_SIZE)  # Resize to target size\n",
    "                image = image / 255.0  # Normalize to [0, 1]\n",
    "\n",
    "                # Append image and label\n",
    "                images.append(image)\n",
    "                labels.append(label)\n",
    "            except Exception as e:\n",
    "                print(f\"Error processing {file_path}: {e}\")\n",
    "\n",
    "    # Convert to numpy arrays\n",
    "    images = np.array(images, dtype='float32')\n",
    "    labels = np.array(labels, dtype='int32')\n",
    "\n",
    "    # Add channel dimension to grayscale images to match input shape for CNNs\n",
    "    # Shape will become (height, width, 1) for each image\n",
    "    images = images[..., np.newaxis]\n",
    "\n",
    "    print(\"Data loading complete.\")\n",
    "    return images, labels\n",
    "\n",
    "# Load the dataset\n",
    "images, labels = load_data()"
   ]
  },
  {
   "cell_type": "code",
   "execution_count": 11,
   "metadata": {},
   "outputs": [],
   "source": [
    "train_images, test_images, train_labels, test_labels = train_test_split(\n",
    "    images, labels, test_size=0.2, random_state=42\n",
    ")\n",
    "num_train_samples = train_images.shape[0]\n",
    "num_test_samples = test_images.shape[0]\n",
    "train_images = train_images.reshape(num_train_samples, -1)\n",
    "test_images = test_images.reshape(num_test_samples, -1)"
   ]
  },
  {
   "cell_type": "code",
   "execution_count": 12,
   "metadata": {},
   "outputs": [
    {
     "data": {
      "text/plain": [
       "['svm_model.joblib']"
      ]
     },
     "execution_count": 12,
     "metadata": {},
     "output_type": "execute_result"
    }
   ],
   "source": [
    "model = SVC(kernel='linear',gamma='auto')\n",
    "model.fit(train_images, train_labels)\n",
    "dump(model, 'svm_model.joblib')"
   ]
  },
  {
   "cell_type": "code",
   "execution_count": 13,
   "metadata": {},
   "outputs": [
    {
     "name": "stdout",
     "output_type": "stream",
     "text": [
      "Accuracy: 0.78125\n",
      "Precision: 0.7853565705128205\n",
      "Recall: 0.78125\n",
      "\n",
      "Classification Report:\n",
      "               precision    recall  f1-score   support\n",
      "\n",
      "           0       0.79      0.86      0.83        22\n",
      "           1       0.92      0.86      0.89        28\n",
      "           2       0.50      0.50      0.50        14\n",
      "\n",
      "    accuracy                           0.78        64\n",
      "   macro avg       0.74      0.74      0.74        64\n",
      "weighted avg       0.79      0.78      0.78        64\n",
      "\n"
     ]
    }
   ],
   "source": [
    "predictions = model.predict(test_images)\n",
    "\n",
    "# Step 3: Calculate metrics\n",
    "accuracy = accuracy_score(test_labels, predictions)\n",
    "precision = precision_score(test_labels, predictions, average='weighted')  # Use 'macro' or 'micro' if appropriate\n",
    "recall = recall_score(test_labels, predictions, average='weighted')\n",
    "\n",
    "# Display the metrics\n",
    "print(\"Accuracy:\", accuracy)\n",
    "print(\"Precision:\", precision)\n",
    "print(\"Recall:\", recall)\n",
    "\n",
    "# Optional: Get a detailed classification report\n",
    "print(\"\\nClassification Report:\\n\", classification_report(test_labels, predictions))"
   ]
  },
  {
   "cell_type": "code",
   "execution_count": 14,
   "metadata": {},
   "outputs": [
    {
     "name": "stdout",
     "output_type": "stream",
     "text": [
      "\n",
      "Classification Report:\n",
      "               precision    recall  f1-score   support\n",
      "\n",
      "           0       0.79      0.86      0.83        22\n",
      "           1       0.92      0.86      0.89        28\n",
      "           2       0.50      0.50      0.50        14\n",
      "\n",
      "    accuracy                           0.78        64\n",
      "   macro avg       0.74      0.74      0.74        64\n",
      "weighted avg       0.79      0.78      0.78        64\n",
      "\n"
     ]
    },
    {
     "data": {
      "image/png": "[encoded data removed]",
      "text/plain": [
       "<Figure size 640x480 with 2 Axes>"
      ]
     },
     "metadata": {},
     "output_type": "display_data"
    }
   ],
   "source": [
    "cm = confusion_matrix(test_labels, predictions)\n",
    "\n",
    "# Step 4: Display the confusion matrix\n",
    "disp = ConfusionMatrixDisplay(confusion_matrix=cm, display_labels=model.classes_)\n",
    "disp.plot(cmap='Blues')  # You can change the color map if desired\n",
    "\n",
    "# Optional: Print classification report for additional insights\n",
    "print(\"\\nClassification Report:\\n\", classification_report(test_labels, predictions))"
   ]
  }
 ],
 "metadata": {
  "kernelspec": {
   "display_name": ".venv",
   "language": "python",
   "name": "python3"
  },
  "language_info": {
   "codemirror_mode": {
    "name": "ipython",
    "version": 3
   },
   "file_extension": ".py",
   "mimetype": "text/x-python",
   "name": "python",
   "nbconvert_exporter": "python",
   "pygments_lexer": "ipython3",
   "version": "3.11.5"
  }
 },
 "nbformat": 4,
 "nbformat_minor": 2
}
